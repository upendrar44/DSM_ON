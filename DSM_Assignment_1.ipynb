{
  "nbformat": 4,
  "nbformat_minor": 0,
  "metadata": {
    "colab": {
      "name": "DSM_Assignment_1.ipynb",
      "provenance": []
    },
    "kernelspec": {
      "name": "python3",
      "display_name": "Python 3"
    },
    "language_info": {
      "name": "python"
    }
  },
  "cells": [
    {
      "cell_type": "markdown",
      "source": [
        "Submitted by: Upendra R"
      ],
      "metadata": {
        "id": "ANBFM1YVxEI-"
      }
    },
    {
      "cell_type": "markdown",
      "source": [
        "1. In the below elements which of them are values or an expression? \n",
        "eg:- values can be\n",
        "integer or string and expressions will be mathematical operators."
      ],
      "metadata": {
        "id": "Q3lD1K_snobV"
      }
    },
    {
      "cell_type": "markdown",
      "source": [
        "*\n",
        "\n",
        "&#39;hello&#39;\n",
        "\n",
        "-87.8\n",
        "\n",
        "-\n",
        "\n",
        "/\n",
        "\n",
        "+\n",
        "\n",
        "6"
      ],
      "metadata": {
        "id": "Gw96kdxBn1el"
      }
    },
    {
      "cell_type": "code",
      "execution_count": 1,
      "metadata": {
        "colab": {
          "base_uri": "https://localhost:8080/"
        },
        "id": "KZd4SFdVnX7n",
        "outputId": "47bd67ed-075d-4a87-af1d-88275693b2dd"
      },
      "outputs": [
        {
          "output_type": "stream",
          "name": "stdout",
          "text": [
            "16\n",
            "0\n",
            "1.0\n",
            "8\n"
          ]
        }
      ],
      "source": [
        "# Expressions are : \n",
        "# * (Arithmetic Operator for multiplication)\n",
        "print(4 * 4)\n",
        "\n",
        "# - (Arithmetic Operator for subtraction)\n",
        "print(4 - 4)\n",
        "\n",
        "# / (Arithmetic Operator for division)\n",
        "print(4/4)\n",
        "\n",
        "# + (Arithmetic Operator for addition)\n",
        "print(4 + 4)"
      ]
    },
    {
      "cell_type": "code",
      "source": [
        "# Values are:\n",
        "# 'hello' - string value\n",
        "print('hello')\n",
        "\n",
        "# -87.8 - float value\n",
        "print(-87.8)\n",
        "\n",
        "# 6 - int value\n",
        "print(6)"
      ],
      "metadata": {
        "colab": {
          "base_uri": "https://localhost:8080/"
        },
        "id": "r0clpInOncal",
        "outputId": "c7673c4b-1952-4fb9-ce05-6fef069f6adf"
      },
      "execution_count": 3,
      "outputs": [
        {
          "output_type": "stream",
          "name": "stdout",
          "text": [
            "hello\n",
            "-87.8\n",
            "6\n"
          ]
        }
      ]
    },
    {
      "cell_type": "markdown",
      "source": [
        "2. What is the difference between string and variable?\n",
        "\n",
        "Ans: string is a collection of alphabets or other characters.\n",
        "variable is a reserved memory location to store values."
      ],
      "metadata": {
        "id": "9iKm_3OLpe9-"
      }
    },
    {
      "cell_type": "code",
      "source": [
        "# Example - string\n",
        "\n",
        "print('one-neuron')\n",
        "type('one-neuron')"
      ],
      "metadata": {
        "colab": {
          "base_uri": "https://localhost:8080/"
        },
        "id": "zmenpidVncgm",
        "outputId": "944a0271-dec1-4538-c8f9-4fefcdfd8f83"
      },
      "execution_count": 4,
      "outputs": [
        {
          "output_type": "stream",
          "name": "stdout",
          "text": [
            "one-neuron\n"
          ]
        },
        {
          "output_type": "execute_result",
          "data": {
            "text/plain": [
              "str"
            ]
          },
          "metadata": {},
          "execution_count": 4
        }
      ]
    },
    {
      "cell_type": "code",
      "source": [
        "website = 'one-neuron'  # website is the variable which stores the string 'one-neuron' id(website) provides the memory location of the variable website.\n",
        "type(website)\n",
        "id(website)"
      ],
      "metadata": {
        "colab": {
          "base_uri": "https://localhost:8080/"
        },
        "id": "ZVZPd38vnclG",
        "outputId": "4a641e2a-0006-42d4-d0b3-3c8015bee4ca"
      },
      "execution_count": 5,
      "outputs": [
        {
          "output_type": "execute_result",
          "data": {
            "text/plain": [
              "139795213889392"
            ]
          },
          "metadata": {},
          "execution_count": 5
        }
      ]
    },
    {
      "cell_type": "markdown",
      "source": [
        "3. Describe three different data types.\n",
        "\n",
        "Ans: 1) int - integer data type\n",
        "2) float - floating point value or decimal values\n",
        "3) boolean data type - True or False"
      ],
      "metadata": {
        "id": "_VDj3lmOqzHZ"
      }
    },
    {
      "cell_type": "code",
      "source": [
        "# int\n",
        "print(type(4))\n",
        "\n",
        "# float\n",
        "print(type(4.4))\n",
        "\n",
        "# bool\n",
        "print(type(True))"
      ],
      "metadata": {
        "colab": {
          "base_uri": "https://localhost:8080/"
        },
        "id": "OO62BEU0ncph",
        "outputId": "5eb1c70d-6a86-4d4a-c015-94cadf2c3c90"
      },
      "execution_count": 6,
      "outputs": [
        {
          "output_type": "stream",
          "name": "stdout",
          "text": [
            "<class 'int'>\n",
            "<class 'float'>\n",
            "<class 'bool'>\n"
          ]
        }
      ]
    },
    {
      "cell_type": "markdown",
      "source": [
        "4. What is an expression made up of? What do all expressions do?\n",
        "\n",
        "Ans: In Python, an expression is made up of operator & operand.\n",
        "Expressions represent performing of any operation on suitable operand which could be just some values or variables."
      ],
      "metadata": {
        "id": "haaobJTMrkAG"
      }
    },
    {
      "cell_type": "code",
      "source": [
        "# expression : \n",
        "# 4 & 6 are values, + is an operator\n",
        "print(4 + 6)\n",
        "\n",
        "# operations on variables : a,b are variables, * is an operator\n",
        "a = 5\n",
        "b = 7\n",
        "print(a * b)"
      ],
      "metadata": {
        "colab": {
          "base_uri": "https://localhost:8080/"
        },
        "id": "1ZY70WEPncto",
        "outputId": "3c996219-6a72-496c-8ded-a7d7b0f6849f"
      },
      "execution_count": 7,
      "outputs": [
        {
          "output_type": "stream",
          "name": "stdout",
          "text": [
            "10\n",
            "35\n"
          ]
        }
      ]
    },
    {
      "cell_type": "markdown",
      "source": [
        "5. This assignment statements, like spam = 10. What is the difference between an\n",
        "expression and a statement?\n",
        "\n",
        "Ans: spam = 10 is a statement made to assign the value to variable spam whereas expression consists of combination of operator & operands which returns a result value."
      ],
      "metadata": {
        "id": "sY_zWjMgsv8B"
      }
    },
    {
      "cell_type": "code",
      "source": [
        "# expression\n",
        "a = 10 + 20"
      ],
      "metadata": {
        "id": "qKrQivEincyF"
      },
      "execution_count": 9,
      "outputs": []
    },
    {
      "cell_type": "markdown",
      "source": [
        "6. After running the following code, what does the variable bacon contain?\n",
        "\n",
        "bacon = 22\n",
        "\n",
        "bacon + 1"
      ],
      "metadata": {
        "id": "wlq7UO1WuRIG"
      }
    },
    {
      "cell_type": "code",
      "source": [
        "bacon = 22\n",
        "bacon + 1\n",
        "print(bacon)\n",
        "# This is because, bacon + 1 is not stored to bacon again. "
      ],
      "metadata": {
        "colab": {
          "base_uri": "https://localhost:8080/"
        },
        "id": "b3ufSJEUnc2J",
        "outputId": "29fa5650-3e43-4a37-e968-dcf6f0b37156"
      },
      "execution_count": 13,
      "outputs": [
        {
          "output_type": "stream",
          "name": "stdout",
          "text": [
            "22\n"
          ]
        }
      ]
    },
    {
      "cell_type": "markdown",
      "source": [
        "7. What should the values of the following two terms be?\n",
        "\n",
        "&#39;spam&#39; + &#39;spamspam&#39;\n",
        "\n",
        "&#39;spam&#39; * 3"
      ],
      "metadata": {
        "id": "GKFLsIEgvKhL"
      }
    },
    {
      "cell_type": "code",
      "source": [
        "'spam' + 'spamspam' "
      ],
      "metadata": {
        "colab": {
          "base_uri": "https://localhost:8080/",
          "height": 35
        },
        "id": "80pjznzZnc6S",
        "outputId": "c30bc6a2-a1cf-4430-854a-aa9f43943998"
      },
      "execution_count": 14,
      "outputs": [
        {
          "output_type": "execute_result",
          "data": {
            "application/vnd.google.colaboratory.intrinsic+json": {
              "type": "string"
            },
            "text/plain": [
              "'spamspamspam'"
            ]
          },
          "metadata": {},
          "execution_count": 14
        }
      ]
    },
    {
      "cell_type": "code",
      "source": [
        "'spam'*3"
      ],
      "metadata": {
        "colab": {
          "base_uri": "https://localhost:8080/",
          "height": 35
        },
        "id": "Gx3opWeTnc-f",
        "outputId": "433189df-eb51-484c-fe0b-3a9d597f30d8"
      },
      "execution_count": 15,
      "outputs": [
        {
          "output_type": "execute_result",
          "data": {
            "application/vnd.google.colaboratory.intrinsic+json": {
              "type": "string"
            },
            "text/plain": [
              "'spamspamspam'"
            ]
          },
          "metadata": {},
          "execution_count": 15
        }
      ]
    },
    {
      "cell_type": "markdown",
      "source": [
        "8. Why is eggs a valid variable name while 100 is invalid?\n",
        "\n",
        "Ans: In Python, the variable name should NOT start with a number or special characters. It will throw error."
      ],
      "metadata": {
        "id": "Vf5YcKQ4vbgh"
      }
    },
    {
      "cell_type": "code",
      "source": [
        "100 = 121"
      ],
      "metadata": {
        "colab": {
          "base_uri": "https://localhost:8080/",
          "height": 130
        },
        "id": "8j83Rzc2ndCn",
        "outputId": "fc48ab12-eb07-49dc-88e1-7ada79e54e2f"
      },
      "execution_count": 18,
      "outputs": [
        {
          "output_type": "error",
          "ename": "SyntaxError",
          "evalue": "ignored",
          "traceback": [
            "\u001b[0;36m  File \u001b[0;32m\"<ipython-input-18-f4dd48c2ce26>\"\u001b[0;36m, line \u001b[0;32m1\u001b[0m\n\u001b[0;31m    100 = 121\u001b[0m\n\u001b[0m             ^\u001b[0m\n\u001b[0;31mSyntaxError\u001b[0m\u001b[0;31m:\u001b[0m can't assign to literal\n"
          ]
        }
      ]
    },
    {
      "cell_type": "markdown",
      "source": [
        "9. What three functions can be used to get the integer, floating-point number, or string\n",
        "version of a value?"
      ],
      "metadata": {
        "id": "OSelPHnfv9wY"
      }
    },
    {
      "cell_type": "code",
      "source": [
        "value = 56\n",
        "print(int(value))\n",
        "print(float(value))\n",
        "print(str(value))"
      ],
      "metadata": {
        "colab": {
          "base_uri": "https://localhost:8080/"
        },
        "id": "Vqrkpiosv7Cr",
        "outputId": "87b354e8-2efe-4f6f-b21f-ef9a7f195621"
      },
      "execution_count": 21,
      "outputs": [
        {
          "output_type": "stream",
          "name": "stdout",
          "text": [
            "56\n",
            "56.0\n",
            "56\n"
          ]
        }
      ]
    },
    {
      "cell_type": "markdown",
      "source": [
        "10. Why does this expression cause an error? How can you fix it?   \n",
        "&#39;I have eaten &#39; + 99 + &#39; burritos.&#39;\n",
        "\n",
        "Ans: Because, 99 is int type & concatenation doesn't work with other strings. We have to convert 99 to string by either using str(99) or '99'."
      ],
      "metadata": {
        "id": "Q7ZpoXBrwaN2"
      }
    },
    {
      "cell_type": "code",
      "source": [
        "'I have eaten'+ ' 99' + ' burritos'"
      ],
      "metadata": {
        "colab": {
          "base_uri": "https://localhost:8080/",
          "height": 35
        },
        "id": "PfMulz7fndGv",
        "outputId": "1acb0e07-9361-4c74-b26c-6367a5a1faee"
      },
      "execution_count": 23,
      "outputs": [
        {
          "output_type": "execute_result",
          "data": {
            "application/vnd.google.colaboratory.intrinsic+json": {
              "type": "string"
            },
            "text/plain": [
              "'I have eaten 99 burritos'"
            ]
          },
          "metadata": {},
          "execution_count": 23
        }
      ]
    },
    {
      "cell_type": "code",
      "source": [
        ""
      ],
      "metadata": {
        "id": "qG_T__WandKl"
      },
      "execution_count": null,
      "outputs": []
    },
    {
      "cell_type": "code",
      "source": [
        ""
      ],
      "metadata": {
        "id": "I93eK-VAndOd"
      },
      "execution_count": null,
      "outputs": []
    },
    {
      "cell_type": "code",
      "source": [
        ""
      ],
      "metadata": {
        "id": "2AuhJajlndSZ"
      },
      "execution_count": null,
      "outputs": []
    },
    {
      "cell_type": "code",
      "source": [
        ""
      ],
      "metadata": {
        "id": "2-EdH_D7ndWF"
      },
      "execution_count": null,
      "outputs": []
    },
    {
      "cell_type": "code",
      "source": [
        ""
      ],
      "metadata": {
        "id": "g9zcBs1pndZt"
      },
      "execution_count": null,
      "outputs": []
    },
    {
      "cell_type": "code",
      "source": [
        ""
      ],
      "metadata": {
        "id": "JPmJ_N-ynddY"
      },
      "execution_count": null,
      "outputs": []
    },
    {
      "cell_type": "code",
      "source": [
        ""
      ],
      "metadata": {
        "id": "zBgR-94FndhV"
      },
      "execution_count": null,
      "outputs": []
    },
    {
      "cell_type": "code",
      "source": [
        ""
      ],
      "metadata": {
        "id": "lVasEVEBndk_"
      },
      "execution_count": null,
      "outputs": []
    },
    {
      "cell_type": "code",
      "source": [
        ""
      ],
      "metadata": {
        "id": "4COtMJ29ndo5"
      },
      "execution_count": null,
      "outputs": []
    },
    {
      "cell_type": "code",
      "source": [
        ""
      ],
      "metadata": {
        "id": "sF96vGJSndsY"
      },
      "execution_count": null,
      "outputs": []
    },
    {
      "cell_type": "code",
      "source": [
        ""
      ],
      "metadata": {
        "id": "9Q_wPFGTndwW"
      },
      "execution_count": null,
      "outputs": []
    }
  ]
}